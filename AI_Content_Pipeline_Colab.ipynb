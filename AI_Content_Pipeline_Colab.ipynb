{
  "cells": [
    {
      "cell_type": "markdown",
      "metadata": {},
      "source": [
        "# AI Content Video Pipeline\n",
        "\n",
        "This notebook helps you set up and run the AI Content Video Pipeline that combines:\n",
        "\n",
        "1. **Gemini**: Text generation for story/script creation\n",
        "2. **Open Sora**: Visual storytelling for video generation\n",
        "3. **Bark**: Audio synthesis for voice narration\n",
        "\n",
        "## Setup\n",
        "\n",
        "Run the cell below to set up and run the pipeline. You will be asked to enter your Gemini API key."
      ]
    },
    {
      "cell_type": "code",
      "execution_count": null,
      "metadata": {},
      "outputs": [],
      "source": [
        "# Run this cell to set up and run the AI Content Pipeline\n",
        "!pip install -q requests\n",
        "import requests\n",
        "\n",
        "# Download the setup script\n",
        "setup_script_url = 'https://raw.githubusercontent.com/abhijitdengale01/ytpipline/main/colab_setup.py'\n",
        "response = requests.get(setup_script_url)\n",
        "with open('colab_setup.py', 'w') as f:\n",
        "    f.write(response.text)\n",
        "\n",
        "# Execute the setup script\n",
        "!python colab_setup.py"
      ]
    },
    {
      "cell_type": "markdown",
      "metadata": {},
      "source": [
        "## Troubleshooting\n",
        "\n",
        "If you encounter any issues with the automatic setup above, you can try the manual steps below:\n",
        "\n",
        "1. Clear existing repository\n",
        "2. Clone the repository\n",
        "3. Install dependencies\n",
        "4. Set your API key\n",
        "5. Run the pipeline"
      ]
    },
    {
      "cell_type": "code",
      "execution_count": null,
      "metadata": {},
      "outputs": [],
      "source": [
        "# Manual setup steps\n",
        "\n",
        "# Step 1: Clear existing repository\n",
        "!rm -rf ytpipline\n",
        "\n",
        "# Step 2: Clone the repository\n",
        "!git clone https://github.com/abhijitdengale01/ytpipline.git\n",
        "%cd ytpipline\n",
        "\n",
        "# Step 3: Install dependencies\n",
        "!pip install -q huggingface_hub==0.16.4 diffusers==0.19.3\n",
        "!pip install -q google-generativeai torch transformers imageio imageio-ffmpeg scipy numpy\n",
        "\n",
        "# Step 4: Set your API key (replace with your key)\n",
        "%env GEMINI_API_KEY=your_gemini_api_key_here\n",
        "\n",
        "# Step 5: Run the pipeline\n",
        "!python run_automated_pipeline.py"
      ]
    },
    {
      "cell_type": "markdown",
      "metadata": {},
      "source": [
        "## View Generated Videos\n",
        "\n",
        "After the pipeline completes, run the cell below to see your generated videos."
      ]
    },
    {
      "cell_type": "code",
      "execution_count": null,
      "metadata": {},
      "outputs": [],
      "source": [
        "from IPython.display import HTML\n",
        "from base64 import b64encode\n",
        "import glob\n",
        "import os\n",
        "\n",
        "# Find the latest video file in the output directory\n",
        "video_files = glob.glob(os.path.join('output', '*.mp4'))\n",
        "if video_files:\n",
        "    # Sort by modification time (newest first)\n",
        "    video_files.sort(key=lambda x: os.path.getmtime(x), reverse=True)\n",
        "    latest_video = video_files[0]\n",
        "    \n",
        "    # Display the video\n",
        "    mp4 = open(latest_video, 'rb').read()\n",
        "    data_url = f'data:video/mp4;base64,{b64encode(mp4).decode()}'\n",
        "    display(HTML(f'''\n",
        "    <video width=640 controls>\n",
        "        <source src=\"{data_url}\" type=\"video/mp4\">\n",
        "    </video>\n",
        "    '''))\n",
        "    print(f'Playing: {latest_video}')\n",
        "else:\n",
        "    print('No video files found in the output directory.')"
      ]
    }
  ],
  "metadata": {
    "kernelspec": {
      "display_name": "Python 3",
      "language": "python",
      "name": "python3"
    },
    "language_info": {
      "codemirror_mode": {
        "name": "ipython",
        "version": 3
      },
      "file_extension": ".py",
      "mimetype": "text/x-python",
      "name": "python",
      "nbconvert_exporter": "python",
      "pygments_lexer": "ipython3",
      "version": "3.8.10"
    }
  },
  "nbformat": 4,
  "nbformat_minor": 4
}
